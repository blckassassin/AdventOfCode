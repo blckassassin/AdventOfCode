{
 "cells": [
  {
   "cell_type": "code",
   "execution_count": 45,
   "metadata": {},
   "outputs": [
    {
     "name": "stdout",
     "output_type": "stream",
     "text": [
      "3813416\n"
     ]
    }
   ],
   "source": [
    "import pandas as pd\n",
    "\n",
    "advent_df = pd.read_csv('./Day3Advent.txt', dtype={'Numbers':str})\n",
    "\n",
    "advent_df['FirstNum'] = pd.to_numeric(advent_df['Numbers'].str[0])\n",
    "advent_df['SecondNum'] = pd.to_numeric(advent_df['Numbers'].str[1])\n",
    "advent_df['ThirdNum'] = pd.to_numeric(advent_df['Numbers'].str[2])\n",
    "advent_df['FourthNum'] = pd.to_numeric(advent_df['Numbers'].str[3])\n",
    "advent_df['SixthNum'] = pd.to_numeric(advent_df['Numbers'].str[4])\n",
    "advent_df['SeventhNum'] = pd.to_numeric(advent_df['Numbers'].str[5])\n",
    "advent_df['EigthNum'] = pd.to_numeric(advent_df['Numbers'].str[6])\n",
    "advent_df['NinthNum'] = pd.to_numeric(advent_df['Numbers'].str[7])\n",
    "advent_df['TenthNum'] = pd.to_numeric(advent_df['Numbers'].str[8])\n",
    "advent_df['EleventhNum'] = pd.to_numeric(advent_df['Numbers'].str[9])\n",
    "advent_df['TwelfthNum'] = pd.to_numeric(advent_df['Numbers'].str[10])\n",
    "advent_df['ThirteenthNum'] = pd.to_numeric(advent_df['Numbers'].str[11])\n",
    "\n",
    "x = 1\n",
    "gamma_binary = \"\"\n",
    "epsilon_binary = \"\"\n",
    "\n",
    "while x < len(advent_df.columns):\n",
    "    high = 0\n",
    "    low = 0\n",
    "    for lab, row in advent_df.iterrows():\n",
    "        if (row[x]) == 1:\n",
    "            high += 1\n",
    "        elif (row[x] == 0):\n",
    "            low += 1\n",
    "    if high > low:\n",
    "        gamma_binary += str(1)\n",
    "        epsilon_binary += str(0)\n",
    "    else:\n",
    "        gamma_binary += str(0)\n",
    "        epsilon_binary += str(1)\n",
    "    x += 1\n",
    "\n",
    "print(int(gamma_binary, 2) * int(epsilon_binary, 2))"
   ]
  }
 ],
 "metadata": {
  "interpreter": {
   "hash": "e7370f93d1d0cde622a1f8e1c04877d8463912d04d973331ad4851f04de6915a"
  },
  "kernelspec": {
   "display_name": "Python 3.10.0 64-bit",
   "language": "python",
   "name": "python3"
  },
  "language_info": {
   "codemirror_mode": {
    "name": "ipython",
    "version": 3
   },
   "file_extension": ".py",
   "mimetype": "text/x-python",
   "name": "python",
   "nbconvert_exporter": "python",
   "pygments_lexer": "ipython3",
   "version": "3.10.0"
  },
  "orig_nbformat": 4
 },
 "nbformat": 4,
 "nbformat_minor": 2
}
