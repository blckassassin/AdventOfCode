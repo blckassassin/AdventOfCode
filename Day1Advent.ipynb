{
 "cells": [
  {
   "cell_type": "code",
   "execution_count": 1,
   "id": "24a1d6ca-cd21-4c46-9256-89160bc2b8c1",
   "metadata": {},
   "outputs": [
    {
     "name": "stdout",
     "output_type": "stream",
     "text": [
      "Number of times Depth increases from previous measurement: 1447\n",
      "Number of times the sum of measurements in a 3 measurement window increases: 1471\n"
     ]
    }
   ],
   "source": [
    "import pandas as pd\n",
    "\n",
    "advent_df = pd.read_csv('./Day1Advent.csv')\n",
    "\n",
    "advent_df.columns = ['Depth']\n",
    "advent_df['PreviousDepth'] = advent_df['Depth'].shift()\n",
    "\n",
    "advent_df = advent_df.astype({  \"Depth\":'float',\n",
    "                                \"PreviousDepth\":'float'})\n",
    "\n",
    "advent_df['DepthChange'] = advent_df['Depth'] > advent_df['Depth'].shift()\n",
    "advent_df['RollingSum'] = advent_df.Depth.rolling(3).sum()\n",
    "advent_df['RollingSumChange'] = advent_df['RollingSum'] > advent_df['RollingSum'].shift()\n",
    "\n",
    "print('Number of times Depth increases from previous measurement: ' + str(sum(advent_df['DepthChange'])))\n",
    "print('Number of times the sum of measurements in a 3 measurement window increases: '+ str(sum(advent_df['RollingSumChange'])))"
   ]
  }
 ],
 "metadata": {
  "kernelspec": {
   "display_name": "Python 3 (ipykernel)",
   "language": "python",
   "name": "python3"
  },
  "language_info": {
   "codemirror_mode": {
    "name": "ipython",
    "version": 3
   },
   "file_extension": ".py",
   "mimetype": "text/x-python",
   "name": "python",
   "nbconvert_exporter": "python",
   "pygments_lexer": "ipython3",
   "version": "3.8.10"
  }
 },
 "nbformat": 4,
 "nbformat_minor": 5
}
