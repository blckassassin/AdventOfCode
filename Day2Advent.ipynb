{
 "cells": [
  {
   "cell_type": "code",
   "execution_count": 2,
   "id": "ccd2f117-d07a-4a50-8a37-9a66630fad8d",
   "metadata": {},
   "outputs": [
    {
     "name": "stdout",
     "output_type": "stream",
     "text": [
      "Old final position: 1882980\n",
      "New final position: 1971232560\n"
     ]
    }
   ],
   "source": [
    "import pandas as pd\n",
    "\n",
    "aim = 0\n",
    "depth = 0\n",
    "forward = 0\n",
    "up = 0\n",
    "down = 0\n",
    "\n",
    "advent_df = pd.read_csv('./Day2Advent.csv')\n",
    "advent_df = advent_df.astype({  \"Course\":'string'})\n",
    "\n",
    "newdf = advent_df['Course'].str.split(\" \", expand = True)\n",
    "advent_df['Direction'] = newdf[0]\n",
    "advent_df['Change'] = newdf[1]\n",
    "advent_df.drop(columns = ['Course'], inplace = True)\n",
    "advent_df = advent_df.astype({  \"Change\":'int'})\n",
    "\n",
    "for lab, row in advent_df.iterrows() :\n",
    "    if row['Direction'] == 'down':\n",
    "        aim = aim + row['Change']\n",
    "    if row['Direction'] == 'up':\n",
    "        aim = aim - row['Change']\n",
    "    if row['Direction'] == 'forward':\n",
    "        depth = depth + row['Change'] * aim\n",
    "\n",
    "forward = advent_df.loc[advent_df['Direction'] == 'forward', 'Change'].sum()\n",
    "up = advent_df.loc[advent_df['Direction'] == 'up', 'Change'].sum()\n",
    "down = advent_df.loc[advent_df['Direction'] == 'down', 'Change'].sum()\n",
    "\n",
    "print('Old final position: ' + str(forward *(down - up)))\n",
    "print('New final position: ' + str(forward * depth))"
   ]
  }
 ],
 "metadata": {
  "kernelspec": {
   "display_name": "Python 3 (ipykernel)",
   "language": "python",
   "name": "python3"
  },
  "language_info": {
   "codemirror_mode": {
    "name": "ipython",
    "version": 3
   },
   "file_extension": ".py",
   "mimetype": "text/x-python",
   "name": "python",
   "nbconvert_exporter": "python",
   "pygments_lexer": "ipython3",
   "version": "3.8.10"
  }
 },
 "nbformat": 4,
 "nbformat_minor": 5
}
